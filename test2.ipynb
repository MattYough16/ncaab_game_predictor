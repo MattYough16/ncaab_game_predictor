{
 "cells": [
  {
   "cell_type": "code",
   "execution_count": 5,
   "metadata": {},
   "outputs": [
    {
     "data": {
      "text/plain": [
       "(ATL)\n",
       "(BAL)\n",
       "(LAD)\n",
       "(TBR)\n",
       "(MIL)\n",
       "(HOU)\n",
       "(PHI)\n",
       "(TEX)\n",
       "(TOR)\n",
       "(SEA)\n",
       "(MIN)\n",
       "(ARI)\n",
       "(MIA)\n",
       "(CHC)\n",
       "(SDP)\n",
       "(CIN)\n",
       "(NYY)\n",
       "(SFG)\n",
       "(DET)\n",
       "(BOS)\n",
       "(CLE)\n",
       "(PIT)\n",
       "(NYM)\n",
       "(LAA)\n",
       "(STL)\n",
       "(WSN)\n",
       "(CHW)\n",
       "(COL)\n",
       "(KCR)\n",
       "(OAK)"
      ]
     },
     "execution_count": 5,
     "metadata": {},
     "output_type": "execute_result"
    }
   ],
   "source": [
    "from sportsipy.mlb.teams import Teams\n",
    "\n",
    "teams = Teams()\n",
    "teams"
   ]
  },
  {
   "cell_type": "code",
   "execution_count": 18,
   "metadata": {},
   "outputs": [
    {
     "ename": "ValueError",
     "evalue": "Can't pull requested conference page. Ensure the following URL exists: https://www.sports-reference.com/cbb/conferences/southern/2024.html",
     "output_type": "error",
     "traceback": [
      "\u001b[0;31m---------------------------------------------------------------------------\u001b[0m",
      "\u001b[0;31mValueError\u001b[0m                                Traceback (most recent call last)",
      "\u001b[1;32m/Users/matthew.yough/Documents/GitHub/ncaab_game_predictor/test2.ipynb Cell 2\u001b[0m line \u001b[0;36m3\n\u001b[1;32m      <a href='vscode-notebook-cell:/Users/matthew.yough/Documents/GitHub/ncaab_game_predictor/test2.ipynb#W1sZmlsZQ%3D%3D?line=0'>1</a>\u001b[0m \u001b[39mfrom\u001b[39;00m \u001b[39msportsipy\u001b[39;00m\u001b[39m.\u001b[39;00m\u001b[39mncaab\u001b[39;00m\u001b[39m.\u001b[39;00m\u001b[39mteams\u001b[39;00m \u001b[39mimport\u001b[39;00m Teams\n\u001b[0;32m----> <a href='vscode-notebook-cell:/Users/matthew.yough/Documents/GitHub/ncaab_game_predictor/test2.ipynb#W1sZmlsZQ%3D%3D?line=2'>3</a>\u001b[0m teams \u001b[39m=\u001b[39m Teams()\n\u001b[1;32m      <a href='vscode-notebook-cell:/Users/matthew.yough/Documents/GitHub/ncaab_game_predictor/test2.ipynb#W1sZmlsZQ%3D%3D?line=3'>4</a>\u001b[0m teams\n",
      "File \u001b[0;32m~/Library/Python/3.9/lib/python/site-packages/sportsipy/ncaab/teams.py:1098\u001b[0m, in \u001b[0;36mTeams.__init__\u001b[0;34m(self, year, basic_stats, basic_opp_stats, adv_stats, adv_opp_stats)\u001b[0m\n\u001b[1;32m   1095\u001b[0m \u001b[39mdef\u001b[39;00m \u001b[39m__init__\u001b[39m(\u001b[39mself\u001b[39m, year\u001b[39m=\u001b[39m\u001b[39mNone\u001b[39;00m, basic_stats\u001b[39m=\u001b[39m\u001b[39mNone\u001b[39;00m, basic_opp_stats\u001b[39m=\u001b[39m\u001b[39mNone\u001b[39;00m,\n\u001b[1;32m   1096\u001b[0m              adv_stats\u001b[39m=\u001b[39m\u001b[39mNone\u001b[39;00m, adv_opp_stats\u001b[39m=\u001b[39m\u001b[39mNone\u001b[39;00m):\n\u001b[1;32m   1097\u001b[0m     \u001b[39mself\u001b[39m\u001b[39m.\u001b[39m_teams \u001b[39m=\u001b[39m []\n\u001b[0;32m-> 1098\u001b[0m     \u001b[39mself\u001b[39m\u001b[39m.\u001b[39m_conferences_dict \u001b[39m=\u001b[39m Conferences(year)\u001b[39m.\u001b[39mteam_conference\n\u001b[1;32m   1100\u001b[0m     team_data_dict, year \u001b[39m=\u001b[39m _retrieve_all_teams(year, basic_stats,\n\u001b[1;32m   1101\u001b[0m                                                basic_opp_stats, adv_stats,\n\u001b[1;32m   1102\u001b[0m                                                adv_opp_stats)\n\u001b[1;32m   1103\u001b[0m     \u001b[39mself\u001b[39m\u001b[39m.\u001b[39m_instantiate_teams(team_data_dict, year)\n",
      "File \u001b[0;32m~/Library/Python/3.9/lib/python/site-packages/sportsipy/ncaab/conferences.py:155\u001b[0m, in \u001b[0;36mConferences.__init__\u001b[0;34m(self, year)\u001b[0m\n\u001b[1;32m    152\u001b[0m \u001b[39mself\u001b[39m\u001b[39m.\u001b[39m_conferences \u001b[39m=\u001b[39m {}\n\u001b[1;32m    153\u001b[0m \u001b[39mself\u001b[39m\u001b[39m.\u001b[39m_team_conference \u001b[39m=\u001b[39m {}\n\u001b[0;32m--> 155\u001b[0m \u001b[39mself\u001b[39;49m\u001b[39m.\u001b[39;49m_find_conferences(year)\n",
      "File \u001b[0;32m~/Library/Python/3.9/lib/python/site-packages/sportsipy/ncaab/conferences.py:248\u001b[0m, in \u001b[0;36m_find_conferences\u001b[0;34m(self, year)\u001b[0m\n\u001b[1;32m    245\u001b[0m page \u001b[39m=\u001b[39m \u001b[39mself\u001b[39m\u001b[39m.\u001b[39m_pull_conference_page(year)\n\u001b[1;32m    246\u001b[0m \u001b[39mif\u001b[39;00m \u001b[39mnot\u001b[39;00m page:\n\u001b[1;32m    247\u001b[0m     output \u001b[39m=\u001b[39m (\u001b[39m\"\u001b[39m\u001b[39mMay no be able to pull requested conference page. Ensure the \u001b[39m\u001b[39m\"\u001b[39m\n\u001b[0;32m--> 248\u001b[0m               \u001b[39m\"\u001b[39m\u001b[39mfollowing URL exists: \u001b[39m\u001b[39m%s\u001b[39;00m\u001b[39m\"\u001b[39m \u001b[39m%\u001b[39m (CONFERENCES_URL \u001b[39m%\u001b[39m year))\n\u001b[1;32m    249\u001b[0m     \u001b[39mraise\u001b[39;00m \u001b[39mValueError\u001b[39;00m(output)\n\u001b[1;32m    250\u001b[0m conferences \u001b[39m=\u001b[39m page(\u001b[39m'\u001b[39m\u001b[39mtable#conference-summary tbody tr\u001b[39m\u001b[39m'\u001b[39m)\u001b[39m.\u001b[39mitems()\n",
      "File \u001b[0;32m~/Library/Python/3.9/lib/python/site-packages/sportsipy/ncaab/conferences.py:28\u001b[0m, in \u001b[0;36mConference.__init__\u001b[0;34m(self, conference_abbreviation, year)\u001b[0m\n\u001b[1;32m     25\u001b[0m \u001b[39mself\u001b[39m\u001b[39m.\u001b[39m_teams \u001b[39m=\u001b[39m {}\n\u001b[1;32m     26\u001b[0m \u001b[39mself\u001b[39m\u001b[39m.\u001b[39m_conference_abbreviation \u001b[39m=\u001b[39m conference_abbreviation\n\u001b[0;32m---> 28\u001b[0m \u001b[39mself\u001b[39;49m\u001b[39m.\u001b[39;49m_find_conference_teams(conference_abbreviation, year)\n",
      "File \u001b[0;32m~/Library/Python/3.9/lib/python/site-packages/sportsipy/ncaab/conferences.py:116\u001b[0m, in \u001b[0;36mConference._find_conference_teams\u001b[0;34m(self, conference_abbreviation, year)\u001b[0m\n\u001b[1;32m    113\u001b[0m     url \u001b[39m=\u001b[39m CONFERENCE_URL \u001b[39m%\u001b[39m (conference_abbreviation, year)\n\u001b[1;32m    114\u001b[0m     output \u001b[39m=\u001b[39m (\u001b[39m\"\u001b[39m\u001b[39mCan\u001b[39m\u001b[39m'\u001b[39m\u001b[39mt pull requested conference page. Ensure the \u001b[39m\u001b[39m\"\u001b[39m\n\u001b[1;32m    115\u001b[0m               \u001b[39m\"\u001b[39m\u001b[39mfollowing URL exists: \u001b[39m\u001b[39m%s\u001b[39;00m\u001b[39m\"\u001b[39m \u001b[39m%\u001b[39m url)\n\u001b[0;32m--> 116\u001b[0m     \u001b[39mraise\u001b[39;00m \u001b[39mValueError\u001b[39;00m(output)\n\u001b[1;32m    117\u001b[0m conference \u001b[39m=\u001b[39m page(\u001b[39m'\u001b[39m\u001b[39mtable#standings tbody tr\u001b[39m\u001b[39m'\u001b[39m)\u001b[39m.\u001b[39mitems()\n\u001b[1;32m    118\u001b[0m \u001b[39mfor\u001b[39;00m team \u001b[39min\u001b[39;00m conference:\n",
      "\u001b[0;31mValueError\u001b[0m: Can't pull requested conference page. Ensure the following URL exists: https://www.sports-reference.com/cbb/conferences/southern/2024.html"
     ]
    }
   ],
   "source": [
    "from sportsipy.ncaab.teams import Teams\n",
    "\n",
    "teams = Teams()\n",
    "teams"
   ]
  },
  {
   "cell_type": "code",
   "execution_count": 1,
   "metadata": {},
   "outputs": [
    {
     "name": "stdout",
     "output_type": "stream",
     "text": [
      "SUCCESS\n"
     ]
    }
   ],
   "source": [
    "from pyquery import PyQuery as pq\n",
    "import re\n",
    "from urllib.error import HTTPError\n",
    "import time\n",
    "\n",
    "try:\n",
    "    pq('https://www.sports-reference.com/cbb/seasons/men/2024.html')\n",
    "    print(\"SUCCESS\")\n",
    "except HTTPError as e:\n",
    "    if e.code == 429:\n",
    "        print('429 ERROR')\n",
    "        time.sleep(5)\n",
    "    else:\n",
    "        # Handle other HTTP errors\n",
    "        print(f\"HTTP Error {e.code}: {e.reason}\")\n"
   ]
  },
  {
   "cell_type": "code",
   "execution_count": null,
   "metadata": {},
   "outputs": [],
   "source": []
  }
 ],
 "metadata": {
  "kernelspec": {
   "display_name": "Python 3",
   "language": "python",
   "name": "python3"
  },
  "language_info": {
   "codemirror_mode": {
    "name": "ipython",
    "version": 3
   },
   "file_extension": ".py",
   "mimetype": "text/x-python",
   "name": "python",
   "nbconvert_exporter": "python",
   "pygments_lexer": "ipython3",
   "version": "3.9.6"
  }
 },
 "nbformat": 4,
 "nbformat_minor": 2
}
