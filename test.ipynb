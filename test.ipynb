{
 "cells": [
  {
   "cell_type": "code",
   "execution_count": 12,
   "metadata": {},
   "outputs": [],
   "source": [
    "from sportsipy.nhl.teams import Teams\n",
    "\n",
    "teams = Teams()"
   ]
  },
  {
   "cell_type": "code",
   "execution_count": 13,
   "metadata": {},
   "outputs": [
    {
     "data": {
      "text/plain": [
       "Boston Bruins (BOS)\n",
       "Vegas Golden Knights (VEG)\n",
       "Vancouver Canucks (VAN)\n",
       "Dallas Stars (DAL)\n",
       "New York Rangers (NYR)\n",
       "Los Angeles Kings (LAK)\n",
       "Florida Panthers (FLA)\n",
       "Toronto Maple Leafs (TOR)\n",
       "Colorado Avalanche (COL)\n",
       "Tampa Bay Lightning (TBL)\n",
       "Winnipeg Jets (WPG)\n",
       "Philadelphia Flyers (PHI)\n",
       "Carolina Hurricanes (CAR)\n",
       "Washington Capitals (WSH)\n",
       "Detroit Red Wings (DET)\n",
       "St. Louis Blues (STL)\n",
       "Seattle Kraken (SEA)\n",
       "Arizona Coyotes (ARI)\n",
       "Pittsburgh Penguins (PIT)\n",
       "Anaheim Ducks (ANA)\n",
       "New York Islanders (NYI)\n",
       "New Jersey Devils (NJD)\n",
       "Calgary Flames (CGY)\n",
       "Buffalo Sabres (BUF)\n",
       "Ottawa Senators (OTT)\n",
       "Montreal Canadiens (MTL)\n",
       "Nashville Predators (NSH)\n",
       "Minnesota Wild (MIN)\n",
       "Columbus Blue Jackets (CBJ)\n",
       "Edmonton Oilers (EDM)\n",
       "Chicago Blackhawks (CHI)\n",
       "San Jose Sharks (SJS)"
      ]
     },
     "execution_count": 13,
     "metadata": {},
     "output_type": "execute_result"
    }
   ],
   "source": [
    "teams"
   ]
  },
  {
   "cell_type": "code",
   "execution_count": 6,
   "metadata": {},
   "outputs": [
    {
     "ename": "ValueError",
     "evalue": "Can't pull requested conference page. Ensure the following URL exists: https://www.sports-reference.com/cbb/conferences/america-east/2018.html",
     "output_type": "error",
     "traceback": [
      "\u001b[0;31m---------------------------------------------------------------------------\u001b[0m",
      "\u001b[0;31mValueError\u001b[0m                                Traceback (most recent call last)",
      "\u001b[1;32m/Users/matthew.yough/Documents/GitHub/ncaab_game_predictor/test.ipynb Cell 3\u001b[0m line \u001b[0;36m3\n\u001b[1;32m      <a href='vscode-notebook-cell:/Users/matthew.yough/Documents/GitHub/ncaab_game_predictor/test.ipynb#W2sZmlsZQ%3D%3D?line=0'>1</a>\u001b[0m \u001b[39mfrom\u001b[39;00m \u001b[39msportsipy\u001b[39;00m\u001b[39m.\u001b[39;00m\u001b[39mncaab\u001b[39;00m\u001b[39m.\u001b[39;00m\u001b[39mconferences\u001b[39;00m \u001b[39mimport\u001b[39;00m Conferences\n\u001b[0;32m----> <a href='vscode-notebook-cell:/Users/matthew.yough/Documents/GitHub/ncaab_game_predictor/test.ipynb#W2sZmlsZQ%3D%3D?line=2'>3</a>\u001b[0m teams \u001b[39m=\u001b[39m Conferences(year\u001b[39m=\u001b[39;49m\u001b[39m2018\u001b[39;49m)\n\u001b[1;32m      <a href='vscode-notebook-cell:/Users/matthew.yough/Documents/GitHub/ncaab_game_predictor/test.ipynb#W2sZmlsZQ%3D%3D?line=3'>4</a>\u001b[0m teams\n",
      "File \u001b[0;32m~/Library/Python/3.9/lib/python/site-packages/sportsipy/ncaab/conferences.py:156\u001b[0m, in \u001b[0;36mConferences.__init__\u001b[0;34m(self, year)\u001b[0m\n\u001b[1;32m    153\u001b[0m \u001b[39mself\u001b[39m\u001b[39m.\u001b[39m_conferences \u001b[39m=\u001b[39m {}\n\u001b[1;32m    154\u001b[0m \u001b[39mself\u001b[39m\u001b[39m.\u001b[39m_team_conference \u001b[39m=\u001b[39m {}\n\u001b[0;32m--> 156\u001b[0m \u001b[39mself\u001b[39;49m\u001b[39m.\u001b[39;49m_find_conferences(year)\n",
      "File \u001b[0;32m~/Library/Python/3.9/lib/python/site-packages/sportsipy/ncaab/conferences.py:253\u001b[0m, in \u001b[0;36mConferences._find_conferences\u001b[0;34m(self, year)\u001b[0m\n\u001b[1;32m    251\u001b[0m conference_abbreviation \u001b[39m=\u001b[39m \u001b[39mself\u001b[39m\u001b[39m.\u001b[39m_get_conference_id(conference)\n\u001b[1;32m    252\u001b[0m conference_name \u001b[39m=\u001b[39m conference(\u001b[39m'\u001b[39m\u001b[39mtd[data-stat=\u001b[39m\u001b[39m\"\u001b[39m\u001b[39mconf_name\u001b[39m\u001b[39m\"\u001b[39m\u001b[39m]\u001b[39m\u001b[39m'\u001b[39m)\u001b[39m.\u001b[39mtext()\n\u001b[0;32m--> 253\u001b[0m teams_dict \u001b[39m=\u001b[39m Conference(conference_abbreviation, year)\u001b[39m.\u001b[39mteams\n\u001b[1;32m    254\u001b[0m conference_dict \u001b[39m=\u001b[39m {\n\u001b[1;32m    255\u001b[0m         \u001b[39m'\u001b[39m\u001b[39mname\u001b[39m\u001b[39m'\u001b[39m: conference_name,\n\u001b[1;32m    256\u001b[0m         \u001b[39m'\u001b[39m\u001b[39mteams\u001b[39m\u001b[39m'\u001b[39m: teams_dict\n\u001b[1;32m    257\u001b[0m     }\n\u001b[1;32m    258\u001b[0m \u001b[39mfor\u001b[39;00m team \u001b[39min\u001b[39;00m teams_dict\u001b[39m.\u001b[39mkeys():\n",
      "File \u001b[0;32m~/Library/Python/3.9/lib/python/site-packages/sportsipy/ncaab/conferences.py:29\u001b[0m, in \u001b[0;36mConference.__init__\u001b[0;34m(self, conference_abbreviation, year)\u001b[0m\n\u001b[1;32m     26\u001b[0m \u001b[39mself\u001b[39m\u001b[39m.\u001b[39m_teams \u001b[39m=\u001b[39m {}\n\u001b[1;32m     27\u001b[0m \u001b[39mself\u001b[39m\u001b[39m.\u001b[39m_conference_abbreviation \u001b[39m=\u001b[39m conference_abbreviation\n\u001b[0;32m---> 29\u001b[0m \u001b[39mself\u001b[39;49m\u001b[39m.\u001b[39;49m_find_conference_teams(conference_abbreviation, year)\n",
      "File \u001b[0;32m~/Library/Python/3.9/lib/python/site-packages/sportsipy/ncaab/conferences.py:117\u001b[0m, in \u001b[0;36mConference._find_conference_teams\u001b[0;34m(self, conference_abbreviation, year)\u001b[0m\n\u001b[1;32m    114\u001b[0m     url \u001b[39m=\u001b[39m CONFERENCE_URL \u001b[39m%\u001b[39m (conference_abbreviation, year)\n\u001b[1;32m    115\u001b[0m     output \u001b[39m=\u001b[39m (\u001b[39m\"\u001b[39m\u001b[39mCan\u001b[39m\u001b[39m'\u001b[39m\u001b[39mt pull requested conference page. Ensure the \u001b[39m\u001b[39m\"\u001b[39m\n\u001b[1;32m    116\u001b[0m               \u001b[39m\"\u001b[39m\u001b[39mfollowing URL exists: \u001b[39m\u001b[39m%s\u001b[39;00m\u001b[39m\"\u001b[39m \u001b[39m%\u001b[39m url)\n\u001b[0;32m--> 117\u001b[0m     \u001b[39mraise\u001b[39;00m \u001b[39mValueError\u001b[39;00m(output)\n\u001b[1;32m    118\u001b[0m conference \u001b[39m=\u001b[39m page(\u001b[39m'\u001b[39m\u001b[39mtable#standings tbody tr\u001b[39m\u001b[39m'\u001b[39m)\u001b[39m.\u001b[39mitems()\n\u001b[1;32m    119\u001b[0m \u001b[39mfor\u001b[39;00m team \u001b[39min\u001b[39;00m conference:\n",
      "\u001b[0;31mValueError\u001b[0m: Can't pull requested conference page. Ensure the following URL exists: https://www.sports-reference.com/cbb/conferences/america-east/2018.html"
     ]
    }
   ],
   "source": [
    "from sportsipy.ncaab.conferences import Conferences\n",
    "\n",
    "teams = Conferences(year=2018)\n",
    "teams"
   ]
  }
 ],
 "metadata": {
  "kernelspec": {
   "display_name": "Python 3",
   "language": "python",
   "name": "python3"
  },
  "language_info": {
   "codemirror_mode": {
    "name": "ipython",
    "version": 3
   },
   "file_extension": ".py",
   "mimetype": "text/x-python",
   "name": "python",
   "nbconvert_exporter": "python",
   "pygments_lexer": "ipython3",
   "version": "3.9.6"
  }
 },
 "nbformat": 4,
 "nbformat_minor": 2
}
