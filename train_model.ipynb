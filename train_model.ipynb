{
 "cells": [
  {
   "cell_type": "code",
   "execution_count": 6,
   "metadata": {},
   "outputs": [
    {
     "name": "stdout",
     "output_type": "stream",
     "text": [
      "1.0\n"
     ]
    },
    {
     "data": {
      "text/plain": [
       "['/Users/matthew.yough/Documents/GitHub/ncaab_game_predictor/CBB_Score_Model.pkl']"
      ]
     },
     "execution_count": 6,
     "metadata": {},
     "output_type": "execute_result"
    }
   ],
   "source": [
    "import pandas as pd\n",
    "from sklearn.linear_model import LinearRegression\n",
    "from sklearn.model_selection import train_test_split\n",
    "import joblib\n",
    "\n",
    "# Read Dataset for Training\n",
    "file_path = \"/Users/matthew.yough/Documents/GitHub/ncaab_game_predictor\"\n",
    "file_name = \"cbb_norm_data.xlsx\"\n",
    "\n",
    "# Model Output Path and File Names\n",
    "model_path = \"/Users/matthew.yough/Documents/GitHub/ncaab_game_predictor\"\n",
    "model_file = \"CBB_Score_Model.pkl\"\n",
    "#away_model_file = \"Away_Team_Model.pkl\"\n",
    "\n",
    "data_df = pd.read_excel(f\"{file_path}/{file_name}\", index_col=0)\n",
    "#data_df = data_df.dropna(axis = 0).reset_index()\n",
    "\n",
    "# Define Metrics for Input Variables\n",
    "'''\n",
    "X = data_df[['total_team_games', 'total_opp_games', 'total_team_points', 'total_opp_points', 'total_team_fg_att', 'total_opp_fg_att', 'total_team_fg_made', 'total_opp_fg_made', 'total_team_fg_pct', 'total_opp_fg_pct', \n",
    "                'total_team_3pt_att', 'total_opp_3pt_att', 'total_team_3pt_made', 'total_opp_3pt_made', 'total_team_3pt_pct', 'total_opp_3pt_pct', 'total_team_ft_att', 'total_opp_ft_att',\n",
    "                'total_team_ft_made', 'total_opp_ft_made', 'total_team_ft_pct', 'total_opp_ft_pct', 'total_team_rebounds', 'total_opp_rebounds', 'total_team_assists', 'total_opp_assists',\n",
    "                'total_team_steals', 'total_opp_steals', 'total_team_blocks', 'total_opp_blocks', 'total_team_turnovers', 'total_opp_turnovers', 'total_team_fouls', 'total_opp_fouls',\n",
    "                 'total_team_pace', 'total_opp_pace', 'team_code', 'opp_code']]\n",
    "                 '''\n",
    "X = data_df[['total_team_points', 'total_opp_points', 'total_team_fg_att', 'total_opp_fg_att', 'total_team_fg_made', 'total_opp_fg_made', 'total_team_fg_pct', 'total_opp_fg_pct', \n",
    "                        'total_team_3pt_att', 'total_opp_3pt_att', 'total_team_3pt_made', 'total_opp_3pt_made', 'total_team_3pt_pct', 'total_opp_3pt_pct', 'total_team_ft_att', 'total_opp_ft_att',\n",
    "                        'total_team_ft_made', 'total_opp_ft_made', 'total_team_ft_pct', 'total_opp_ft_pct', 'total_team_rebounds', 'total_opp_rebounds', 'total_team_assists', 'total_opp_assists',\n",
    "                        'total_team_steals', 'total_opp_steals', 'total_team_blocks', 'total_opp_blocks', 'total_team_turnovers', 'total_opp_turnovers', 'total_team_fouls', 'total_opp_fouls',\n",
    "                        'team_code', 'opp_code']]\n",
    "\n",
    "Y = data_df[['total_team_points', 'total_opp_points', 'total_team_fg_att', 'total_opp_fg_att', 'total_team_fg_made', 'total_opp_fg_made', 'total_team_fg_pct', 'total_opp_fg_pct', \n",
    "                        'total_team_3pt_att', 'total_opp_3pt_att', 'total_team_3pt_made', 'total_opp_3pt_made', 'total_team_3pt_pct', 'total_opp_3pt_pct', 'total_team_ft_att', 'total_opp_ft_att',\n",
    "                        'total_team_ft_made', 'total_opp_ft_made', 'total_team_ft_pct', 'total_opp_ft_pct', 'total_team_rebounds', 'total_opp_rebounds', 'total_team_assists', 'total_opp_assists',\n",
    "                        'total_team_steals', 'total_opp_steals', 'total_team_blocks', 'total_opp_blocks', 'total_team_turnovers', 'total_opp_turnovers', 'total_team_fouls', 'total_opp_fouls',\n",
    "                        'team_code', 'opp_code', 'team_points']]\n",
    "X = X.dropna(axis = 0)\n",
    "X = X.reset_index(drop=True)\n",
    "X.to_excel('training_data.xlsx')\n",
    "\n",
    "Y = Y.dropna(axis=0)\n",
    "Y = Y.reset_index(drop=True)\n",
    "y_team = Y['team_points']\n",
    "\n",
    "# Linear Regression Model\n",
    "X_train, X_test, y_train, y_test = train_test_split(X, y_team, test_size = 0.20)\n",
    "\n",
    "regr = LinearRegression()\n",
    "regr.fit(X_train, y_train.values.ravel())\n",
    "print(regr.score(X_test, y_test))\n",
    "\n",
    "# Save Models\n",
    "joblib.dump(regr, f\"{model_path}/{model_file}\")\n"
   ]
  },
  {
   "cell_type": "code",
   "execution_count": 2,
   "metadata": {},
   "outputs": [],
   "source": [
    "pd.set_option('display.max_columns', 500)\n",
    "pd.set_option('display.max_rows', 1000000)"
   ]
  },
  {
   "cell_type": "code",
   "execution_count": null,
   "metadata": {},
   "outputs": [],
   "source": [
    "data_df"
   ]
  }
 ],
 "metadata": {
  "kernelspec": {
   "display_name": "Python 3",
   "language": "python",
   "name": "python3"
  },
  "language_info": {
   "codemirror_mode": {
    "name": "ipython",
    "version": 3
   },
   "file_extension": ".py",
   "mimetype": "text/x-python",
   "name": "python",
   "nbconvert_exporter": "python",
   "pygments_lexer": "ipython3",
   "version": "3.9.6"
  }
 },
 "nbformat": 4,
 "nbformat_minor": 2
}
